{
  "nbformat": 4,
  "nbformat_minor": 0,
  "metadata": {
    "colab": {
      "name": "Stock Price Prediction",
      "version": "0.3.2",
      "provenance": [],
      "collapsed_sections": [],
      "include_colab_link": true
    },
    "kernelspec": {
      "name": "python3",
      "display_name": "Python 3"
    }
  },
  "cells": [
    {
      "cell_type": "markdown",
      "metadata": {
        "id": "view-in-github",
        "colab_type": "text"
      },
      "source": [
        "<a href=\"https://colab.research.google.com/github/shafeeqtk/stock-price-prediction-with-ml/blob/master/Stock_Price_Prediction.ipynb\" target=\"_parent\"><img src=\"https://colab.research.google.com/assets/colab-badge.svg\" alt=\"Open In Colab\"/></a>"
      ]
    },
    {
      "cell_type": "markdown",
      "metadata": {
        "id": "Vidnq71Y__zG",
        "colab_type": "text"
      },
      "source": [
        "## Predicting stock prices based on past data using three ML models (Linear Regression, Random Forest and Decision Trees)"
      ]
    },
    {
      "cell_type": "code",
      "metadata": {
        "id": "AjrVyoLqWog2",
        "colab_type": "code",
        "colab": {}
      },
      "source": [
        "import pandas as pd\n",
        "import numpy as np\n",
        "import datetime as dt\n",
        "from datetime import timedelta\n",
        "import pandas_datareader.data as datareader\n",
        "import matplotlib.pyplot as plt\n",
        "from matplotlib import style\n",
        "\n",
        "plt.style.use('seaborn-white')"
      ],
      "execution_count": 0,
      "outputs": []
    },
    {
      "cell_type": "code",
      "metadata": {
        "id": "MmJ23ig9j6hL",
        "colab_type": "code",
        "colab": {}
      },
      "source": [
        "STOCK_NAME = 'TSLA'"
      ],
      "execution_count": 0,
      "outputs": []
    },
    {
      "cell_type": "code",
      "metadata": {
        "id": "BA9hUj8QWR9V",
        "colab_type": "code",
        "outputId": "82f03f38-cdc4-4760-a8da-e38c255db4df",
        "colab": {
          "base_uri": "https://localhost:8080/",
          "height": 34
        }
      },
      "source": [
        "today = dt.datetime.now()\n",
        "end = today - timedelta(days=1)\n",
        "#Last 5 years of data\n",
        "start = end - timedelta(days=365*5)\n",
        "\n",
        "print(start, end)"
      ],
      "execution_count": 0,
      "outputs": [
        {
          "output_type": "stream",
          "text": [
            "2014-09-09 07:29:45.091836 2019-09-08 07:29:45.091836\n"
          ],
          "name": "stdout"
        }
      ]
    },
    {
      "cell_type": "code",
      "metadata": {
        "id": "Sehp3A4eW6j6",
        "colab_type": "code",
        "outputId": "9ffe94e5-1189-49ad-9da1-181d2b932699",
        "colab": {
          "base_uri": "https://localhost:8080/",
          "height": 289
        }
      },
      "source": [
        "# using pandas_datareader module to load stock prices from yahoo finance api\n",
        "df = datareader.DataReader(STOCK_NAME, 'yahoo', start, end)\n",
        "print(df.head())\n",
        "print(df.tail())"
      ],
      "execution_count": 0,
      "outputs": [
        {
          "output_type": "stream",
          "text": [
            "                  High         Low  ...    Volume   Adj Close\n",
            "Date                                ...                      \n",
            "2014-09-09  285.489990  277.000000  ...   4558800  278.480011\n",
            "2014-09-10  281.410004  273.660004  ...   3781300  281.100006\n",
            "2014-09-11  284.790009  278.630005  ...   3766100  280.309998\n",
            "2014-09-12  282.390015  277.000000  ...   3324600  279.200012\n",
            "2014-09-15  274.399994  249.130005  ...  16455400  253.860001\n",
            "\n",
            "[5 rows x 6 columns]\n",
            "                  High         Low        Open       Close   Volume   Adj Close\n",
            "Date                                                                           \n",
            "2019-08-30  232.440002  224.210007  229.149994  225.610001  9320600  225.610001\n",
            "2019-09-03  228.949997  223.160004  224.080002  225.009995  5354100  225.009995\n",
            "2019-09-04  228.460007  219.210007  226.889999  220.679993  5761000  220.679993\n",
            "2019-09-05  229.800003  220.850006  222.500000  229.580002  7395300  229.580002\n",
            "2019-09-06  229.639999  225.169998  227.199997  227.449997  4182200  227.449997\n"
          ],
          "name": "stdout"
        }
      ]
    },
    {
      "cell_type": "code",
      "metadata": {
        "id": "5H3qNEo5i7wP",
        "colab_type": "code",
        "outputId": "c4c9cf39-d708-4efe-a128-a8d0e9440213",
        "colab": {
          "base_uri": "https://localhost:8080/",
          "height": 288
        }
      },
      "source": [
        "df[\"Adj Close\"].plot()"
      ],
      "execution_count": 0,
      "outputs": [
        {
          "output_type": "execute_result",
          "data": {
            "text/plain": [
              "<matplotlib.axes._subplots.AxesSubplot at 0x7f31640c0d30>"
            ]
          },
          "metadata": {
            "tags": []
          },
          "execution_count": 6
        },
        {
          "output_type": "display_data",
          "data": {
            "image/png": "[encoded data removed]",
            "text/plain": [
              "<Figure size 432x288 with 1 Axes>"
            ]
          },
          "metadata": {
            "tags": []
          }
        }
      ]
    },
    {
      "cell_type": "markdown",
      "metadata": {
        "id": "OLMSlp0Qi_6P",
        "colab_type": "text"
      },
      "source": [
        "Quite a but of variation is observed"
      ]
    },
    {
      "cell_type": "code",
      "metadata": {
        "id": "AJSq8YxeXLDs",
        "colab_type": "code",
        "outputId": "32ab2f51-4323-410a-f777-20bdf36b1a2c",
        "colab": {
          "base_uri": "https://localhost:8080/",
          "height": 303
        }
      },
      "source": [
        "# exploring rolling mean to identify any trends\n",
        "\n",
        "daily_close = df['Adj Close']\n",
        "mavg = daily_close.rolling(window=100).mean()\n",
        "daily_close.plot(label=STOCK_NAME)\n",
        "mavg.plot(label='Mov Avg')\n",
        "plt.title('Close and Moving avg of Close')\n",
        "plt.legend()"
      ],
      "execution_count": 0,
      "outputs": [
        {
          "output_type": "execute_result",
          "data": {
            "text/plain": [
              "<matplotlib.legend.Legend at 0x7f316426d8d0>"
            ]
          },
          "metadata": {
            "tags": []
          },
          "execution_count": 7
        },
        {
          "output_type": "display_data",
          "data": {
            "image/png": "[encoded data removed]",
            "text/plain": [
              "<Figure size 432x288 with 1 Axes>"
            ]
          },
          "metadata": {
            "tags": []
          }
        }
      ]
    },
    {
      "cell_type": "markdown",
      "metadata": {
        "id": "QfzC9pTZjYks",
        "colab_type": "text"
      },
      "source": [
        "There are definitely some periods of drops and increases"
      ]
    },
    {
      "cell_type": "code",
      "metadata": {
        "id": "xll1a4onkcKB",
        "colab_type": "code",
        "outputId": "e95f449f-7344-4063-80de-b57b197c8989",
        "colab": {
          "base_uri": "https://localhost:8080/",
          "height": 297
        }
      },
      "source": [
        "df.describe()"
      ],
      "execution_count": 0,
      "outputs": [
        {
          "output_type": "execute_result",
          "data": {
            "text/html": [
              "<div>\n",
              "<style scoped>\n",
              "    .dataframe tbody tr th:only-of-type {\n",
              "        vertical-align: middle;\n",
              "    }\n",
              "\n",
              "    .dataframe tbody tr th {\n",
              "        vertical-align: top;\n",
              "    }\n",
              "\n",
              "    .dataframe thead th {\n",
              "        text-align: right;\n",
              "    }\n",
              "</style>\n",
              "<table border=\"1\" class=\"dataframe\">\n",
              "  <thead>\n",
              "    <tr style=\"text-align: right;\">\n",
              "      <th></th>\n",
              "      <th>High</th>\n",
              "      <th>Low</th>\n",
              "      <th>Open</th>\n",
              "      <th>Close</th>\n",
              "      <th>Volume</th>\n",
              "      <th>Adj Close</th>\n",
              "    </tr>\n",
              "  </thead>\n",
              "  <tbody>\n",
              "    <tr>\n",
              "      <th>count</th>\n",
              "      <td>1258.000000</td>\n",
              "      <td>1258.000000</td>\n",
              "      <td>1258.000000</td>\n",
              "      <td>1258.000000</td>\n",
              "      <td>1.258000e+03</td>\n",
              "      <td>1258.000000</td>\n",
              "    </tr>\n",
              "    <tr>\n",
              "      <th>mean</th>\n",
              "      <td>268.860278</td>\n",
              "      <td>259.923553</td>\n",
              "      <td>264.546248</td>\n",
              "      <td>264.536868</td>\n",
              "      <td>6.423401e+06</td>\n",
              "      <td>264.536868</td>\n",
              "    </tr>\n",
              "    <tr>\n",
              "      <th>std</th>\n",
              "      <td>54.482990</td>\n",
              "      <td>52.725051</td>\n",
              "      <td>53.666759</td>\n",
              "      <td>53.665565</td>\n",
              "      <td>3.991792e+06</td>\n",
              "      <td>53.665565</td>\n",
              "    </tr>\n",
              "    <tr>\n",
              "      <th>min</th>\n",
              "      <td>154.970001</td>\n",
              "      <td>141.050003</td>\n",
              "      <td>142.320007</td>\n",
              "      <td>143.669998</td>\n",
              "      <td>7.103000e+05</td>\n",
              "      <td>143.669998</td>\n",
              "    </tr>\n",
              "    <tr>\n",
              "      <th>25%</th>\n",
              "      <td>223.712498</td>\n",
              "      <td>217.042503</td>\n",
              "      <td>220.509998</td>\n",
              "      <td>219.952503</td>\n",
              "      <td>3.887650e+06</td>\n",
              "      <td>219.952503</td>\n",
              "    </tr>\n",
              "    <tr>\n",
              "      <th>50%</th>\n",
              "      <td>256.259995</td>\n",
              "      <td>249.105003</td>\n",
              "      <td>252.525002</td>\n",
              "      <td>252.979996</td>\n",
              "      <td>5.386650e+06</td>\n",
              "      <td>252.979996</td>\n",
              "    </tr>\n",
              "    <tr>\n",
              "      <th>75%</th>\n",
              "      <td>315.449997</td>\n",
              "      <td>305.377495</td>\n",
              "      <td>311.192497</td>\n",
              "      <td>310.402512</td>\n",
              "      <td>7.604025e+06</td>\n",
              "      <td>310.402512</td>\n",
              "    </tr>\n",
              "    <tr>\n",
              "      <th>max</th>\n",
              "      <td>389.609985</td>\n",
              "      <td>379.350006</td>\n",
              "      <td>386.690002</td>\n",
              "      <td>385.000000</td>\n",
              "      <td>3.364970e+07</td>\n",
              "      <td>385.000000</td>\n",
              "    </tr>\n",
              "  </tbody>\n",
              "</table>\n",
              "</div>"
            ],
            "text/plain": [
              "              High          Low  ...        Volume    Adj Close\n",
              "count  1258.000000  1258.000000  ...  1.258000e+03  1258.000000\n",
              "mean    268.860278   259.923553  ...  6.423401e+06   264.536868\n",
              "std      54.482990    52.725051  ...  3.991792e+06    53.665565\n",
              "min     154.970001   141.050003  ...  7.103000e+05   143.669998\n",
              "25%     223.712498   217.042503  ...  3.887650e+06   219.952503\n",
              "50%     256.259995   249.105003  ...  5.386650e+06   252.979996\n",
              "75%     315.449997   305.377495  ...  7.604025e+06   310.402512\n",
              "max     389.609985   379.350006  ...  3.364970e+07   385.000000\n",
              "\n",
              "[8 rows x 6 columns]"
            ]
          },
          "metadata": {
            "tags": []
          },
          "execution_count": 8
        }
      ]
    },
    {
      "cell_type": "code",
      "metadata": {
        "id": "nN18cmvrkhKH",
        "colab_type": "code",
        "colab": {}
      },
      "source": [
        "plt.boxplot(daily_close)"
      ],
      "execution_count": 0,
      "outputs": []
    },
    {
      "cell_type": "markdown",
      "metadata": {
        "id": "hhwPOCc6lRZR",
        "colab_type": "text"
      },
      "source": [
        "distribution of daily close"
      ]
    },
    {
      "cell_type": "code",
      "metadata": {
        "id": "r9bq40dxk-au",
        "colab_type": "code",
        "colab": {}
      },
      "source": [
        "plt.hist(daily_close)"
      ],
      "execution_count": 0,
      "outputs": []
    },
    {
      "cell_type": "markdown",
      "metadata": {
        "id": "o2w16yScLRo3",
        "colab_type": "text"
      },
      "source": [
        "The deviation in stock prices are seen to be very high (10% to 15%)\n",
        "This means the stock is not very stable and incurs high risk."
      ]
    },
    {
      "cell_type": "code",
      "metadata": {
        "id": "P7bvr1S4YCGE",
        "colab_type": "code",
        "colab": {}
      },
      "source": [
        "df_regression = df.loc[:,['Adj Close','Volume']]\n",
        "#daily high to low variation to close\n",
        "df_regression['high_low_diff'] = (df['High'] - df['Low']) / df['Close'] * 100.0\n",
        "#percent change per close\n",
        "df_regression['close_open_diff'] = (df['Close'] - df['Open']) / df['Open'] * 100.0"
      ],
      "execution_count": 0,
      "outputs": []
    },
    {
      "cell_type": "markdown",
      "metadata": {
        "id": "ZWybR9qGrzVf",
        "colab_type": "text"
      },
      "source": [
        "Splitting the data into test and validate sets"
      ]
    },
    {
      "cell_type": "code",
      "metadata": {
        "id": "K8qDX12Vo184",
        "colab_type": "code",
        "colab": {}
      },
      "source": [
        "skip_last = 45 \n",
        "y = df_regression['Adj Close'].shift(-skip_last)[0:-skip_last]\n",
        "X = df_regression[:-skip_last]\n",
        "X_test = df_regression[-skip_last:]\n",
        "\n",
        "df_new = df_regression[-skip_last:]\n",
        "y_test = df_new['Adj Close']"
      ],
      "execution_count": 0,
      "outputs": []
    },
    {
      "cell_type": "code",
      "metadata": {
        "id": "dHm9R5iM-CVj",
        "colab_type": "code",
        "outputId": "64d9963f-63d5-41fc-8c55-e35a9efd348e",
        "colab": {
          "base_uri": "https://localhost:8080/",
          "height": 34
        }
      },
      "source": [
        "y_test.shape"
      ],
      "execution_count": 0,
      "outputs": [
        {
          "output_type": "execute_result",
          "data": {
            "text/plain": [
              "(45,)"
            ]
          },
          "metadata": {
            "tags": []
          },
          "execution_count": 38
        }
      ]
    },
    {
      "cell_type": "code",
      "metadata": {
        "id": "nyBpP_pgr_M7",
        "colab_type": "code",
        "colab": {}
      },
      "source": [
        "from sklearn.model_selection import train_test_split\n",
        "X_train, X_val, y_train, y_val = train_test_split(np.array(X), \n",
        "                                                  np.array(y), \n",
        "                                                  test_size = 0.2)\n"
      ],
      "execution_count": 0,
      "outputs": []
    },
    {
      "cell_type": "code",
      "metadata": {
        "id": "rZwz30ovsESH",
        "colab_type": "code",
        "outputId": "8f2a023c-1535-4e1b-fd1e-9f6e0281bbb0",
        "colab": {
          "base_uri": "https://localhost:8080/",
          "height": 51
        }
      },
      "source": [
        "from sklearn.linear_model import LinearRegression\n",
        "from sklearn.tree import DecisionTreeRegressor\n",
        "from sklearn.ensemble import RandomForestRegressor\n",
        "from sklearn.metrics import r2_score\n",
        "\n",
        "clf_reg_lin = LinearRegression()\n",
        "clf_reg_lin.fit(X_train, y_train)\n",
        "pred_lin = clf_reg_lin.predict(X_val)\n",
        "r2_lin = r2_score(y_val, pred_lin)\n",
        "\n",
        "clf_reg_dt = DecisionTreeRegressor()\n",
        "clf_reg_dt.fit(X_train, y_train)\n",
        "pred_dt = clf_reg_dt.predict(X_val)\n",
        "r2_dt = r2_score(y_val, pred_dt)\n",
        "\n",
        "clf_reg_rf = RandomForestRegressor()\n",
        "clf_reg_rf.fit(X_train, y_train)\n",
        "pred_rf = clf_reg_rf.predict(X_val)\n",
        "r2_rf = r2_score(y_val, pred_rf)"
      ],
      "execution_count": 0,
      "outputs": [
        {
          "output_type": "stream",
          "text": [
            "/usr/local/lib/python3.6/dist-packages/sklearn/ensemble/forest.py:245: FutureWarning: The default value of n_estimators will change from 10 in version 0.20 to 100 in 0.22.\n",
            "  \"10 in version 0.20 to 100 in 0.22.\", FutureWarning)\n"
          ],
          "name": "stderr"
        }
      ]
    },
    {
      "cell_type": "code",
      "metadata": {
        "id": "-OEo0Lc_sEOz",
        "colab_type": "code",
        "outputId": "98fa88a9-a7e7-408d-98ce-320d9f24fb06",
        "colab": {
          "base_uri": "https://localhost:8080/",
          "height": 68
        }
      },
      "source": [
        "print(\"R2 value for Linear Regression = {0}\".format(r2_lin))\n",
        "print(\"R2 value for Decision Tree Regression = {0}\".format(r2_dt))\n",
        "print(\"R2 value for Random Forest Regression = {0}\".format(r2_rf))"
      ],
      "execution_count": 0,
      "outputs": [
        {
          "output_type": "stream",
          "text": [
            "R2 value for Linear Regression = 0.502146283581175\n",
            "R2 value for Decision Tree Regression = 0.37458679349273916\n",
            "R2 value for Random Forest Regression = 0.5819171124527733\n"
          ],
          "name": "stdout"
        }
      ]
    },
    {
      "cell_type": "code",
      "metadata": {
        "id": "2ilqi291sEL-",
        "colab_type": "code",
        "outputId": "0bc1a985-f330-4d4a-b191-59b3bafb64be",
        "colab": {
          "base_uri": "https://localhost:8080/",
          "height": 323
        }
      },
      "source": [
        "future_pred_rf = clf_reg_rf.predict(X_test)\n",
        "future_pred_lr = clf_reg_lin.predict(X_test)\n",
        "future_pred_dt = clf_reg_dt.predict(X_test)\n",
        "\n",
        "df_new['Adj Close Pred RF'] = future_pred_rf\n",
        "df_new['Adj Close Pred LR'] = future_pred_lr\n",
        "df_new['Adj Close Pred DT'] = future_pred_dt"
      ],
      "execution_count": 0,
      "outputs": [
        {
          "output_type": "stream",
          "text": [
            "/usr/local/lib/python3.6/dist-packages/ipykernel_launcher.py:5: SettingWithCopyWarning: \n",
            "A value is trying to be set on a copy of a slice from a DataFrame.\n",
            "Try using .loc[row_indexer,col_indexer] = value instead\n",
            "\n",
            "See the caveats in the documentation: http://pandas.pydata.org/pandas-docs/stable/indexing.html#indexing-view-versus-copy\n",
            "  \"\"\"\n",
            "/usr/local/lib/python3.6/dist-packages/ipykernel_launcher.py:6: SettingWithCopyWarning: \n",
            "A value is trying to be set on a copy of a slice from a DataFrame.\n",
            "Try using .loc[row_indexer,col_indexer] = value instead\n",
            "\n",
            "See the caveats in the documentation: http://pandas.pydata.org/pandas-docs/stable/indexing.html#indexing-view-versus-copy\n",
            "  \n",
            "/usr/local/lib/python3.6/dist-packages/ipykernel_launcher.py:7: SettingWithCopyWarning: \n",
            "A value is trying to be set on a copy of a slice from a DataFrame.\n",
            "Try using .loc[row_indexer,col_indexer] = value instead\n",
            "\n",
            "See the caveats in the documentation: http://pandas.pydata.org/pandas-docs/stable/indexing.html#indexing-view-versus-copy\n",
            "  import sys\n"
          ],
          "name": "stderr"
        }
      ]
    },
    {
      "cell_type": "code",
      "metadata": {
        "id": "QPb3aWygsEJL",
        "colab_type": "code",
        "outputId": "f338e981-aba1-4cb2-c2be-eac13991aeb0",
        "colab": {
          "base_uri": "https://localhost:8080/",
          "height": 68
        }
      },
      "source": [
        "print('R2 score for test data using the Random Forest: {:04.3f}'.format(r2_score(future_pred_rf, y_test)))\n",
        "print('R2 score for test data using the Linear Model: {:04.3f}'.format(r2_score(future_pred_lr, y_test)))\n",
        "print('R2 score for test data using the Decition Tree: {:04.3f}'.format(r2_score(future_pred_dt, y_test)))"
      ],
      "execution_count": 0,
      "outputs": [
        {
          "output_type": "stream",
          "text": [
            "R2 score for test data using the Random Forest: 0.052\n",
            "R2 score for test data using the Linear Model: -0.156\n",
            "R2 score for test data using the Decition Tree: 0.063\n"
          ],
          "name": "stdout"
        }
      ]
    },
    {
      "cell_type": "code",
      "metadata": {
        "id": "XvE9dat3-lOT",
        "colab_type": "code",
        "outputId": "04f4f78a-a85f-49e6-9d34-c70457b96f5b",
        "colab": {
          "base_uri": "https://localhost:8080/",
          "height": 398
        }
      },
      "source": [
        "fig = plt.figure(1)\n",
        "ax = fig.add_subplot(111)\n",
        "\n",
        "plt.style.use('ggplot')\n",
        "\n",
        "pt = plt.plot(df['Adj Close'][-60:], label='Actual Prices (Train data)')\n",
        "\n",
        "df_new.loc[df['Adj Close'].index[-1]] = df['Adj Close'][-1]\n",
        "df_new.sort_index(inplace=True)\n",
        "\n",
        "plt.plot(df_new['Adj Close'], label='Actual Prices (Test data)')\n",
        "plt.plot(df_new['Adj Close Pred RF'], label='Predicted Prices')\n",
        "ax.tick_params(axis ='x', rotation =45) \n",
        "plt.legend();"
      ],
      "execution_count": 0,
      "outputs": [
        {
          "output_type": "stream",
          "text": [
            "/usr/local/lib/python3.6/dist-packages/pandas/core/indexing.py:543: SettingWithCopyWarning: \n",
            "A value is trying to be set on a copy of a slice from a DataFrame.\n",
            "Try using .loc[row_indexer,col_indexer] = value instead\n",
            "\n",
            "See the caveats in the documentation: http://pandas.pydata.org/pandas-docs/stable/indexing.html#indexing-view-versus-copy\n",
            "  self.obj[item] = s\n"
          ],
          "name": "stderr"
        },
        {
          "output_type": "display_data",
          "data": {
            "image/png": "[encoded data removed]",
            "text/plain": [
              "<Figure size 432x288 with 1 Axes>"
            ]
          },
          "metadata": {
            "tags": []
          }
        }
      ]
    },
    {
      "cell_type": "markdown",
      "metadata": {
        "id": "dMaHQaZC_mVv",
        "colab_type": "text"
      },
      "source": [
        "We achive very low accuract and we can see that the pedicted stock prices are very different from actual prices.\n",
        "\n",
        "This leads us to a hypothesis that the stock prices are dependent on more than just the past stock values as a time-series data and there are other external features that need to be explored."
      ]
    },
    {
      "cell_type": "code",
      "metadata": {
        "id": "f-2Ip4MobSRT",
        "colab_type": "code",
        "colab": {}
      },
      "source": [
        ""
      ],
      "execution_count": 0,
      "outputs": []
    }
  ]
}